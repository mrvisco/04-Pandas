{
 "cells": [
  {
   "cell_type": "markdown",
   "metadata": {},
   "source": [
    "# PyCity Schools Analysis\n",
    "\n",
    "* "
   ]
  },
  {
   "cell_type": "markdown",
   "metadata": {},
   "source": [
    "### Note\n",
    "* Instructions have been included for each segment. You do not have to follow them exactly, but they are included to help you think through the steps."
   ]
  },
  {
   "cell_type": "code",
   "execution_count": 1,
   "metadata": {},
   "outputs": [],
   "source": [
    "# Dependencies and Setup\n",
    "import pandas as pd\n",
    "import numpy as np\n",
    "\n",
    "# File to Load (Remember to Change These)\n",
    "school = \"Resources/schools_complete.csv\"\n",
    "student = \"Resources/students_complete.csv\"\n",
    "\n",
    "# Read School and Student Data File and store into Pandas Data Frames\n",
    "school_data = pd.read_csv(school)\n",
    "student_data = pd.read_csv(student)\n",
    "\n",
    "# Combine the data into a single dataset\n",
    "school_combo_df = pd.merge(student_data, school_data, how=\"left\", on=[\"school_name\", \"school_name\"])"
   ]
  },
  {
   "cell_type": "code",
   "execution_count": 2,
   "metadata": {
    "scrolled": true
   },
   "outputs": [],
   "source": [
    "# I created this so I would have an index which I used later in the program\n",
    "school_combo_df.columns\n",
    "highschool = set()"
   ]
  },
  {
   "cell_type": "code",
   "execution_count": 3,
   "metadata": {
    "scrolled": false
   },
   "outputs": [
    {
     "data": {
      "text/html": [
       "<div>\n",
       "<style scoped>\n",
       "    .dataframe tbody tr th:only-of-type {\n",
       "        vertical-align: middle;\n",
       "    }\n",
       "\n",
       "    .dataframe tbody tr th {\n",
       "        vertical-align: top;\n",
       "    }\n",
       "\n",
       "    .dataframe thead th {\n",
       "        text-align: right;\n",
       "    }\n",
       "</style>\n",
       "<table border=\"1\" class=\"dataframe\">\n",
       "  <thead>\n",
       "    <tr style=\"text-align: right;\">\n",
       "      <th></th>\n",
       "      <th>Student ID</th>\n",
       "      <th>student_name</th>\n",
       "      <th>gender</th>\n",
       "      <th>grade</th>\n",
       "      <th>school_name</th>\n",
       "      <th>reading_score</th>\n",
       "      <th>math_score</th>\n",
       "      <th>School ID</th>\n",
       "      <th>type</th>\n",
       "      <th>size</th>\n",
       "      <th>budget</th>\n",
       "    </tr>\n",
       "  </thead>\n",
       "  <tbody>\n",
       "    <tr>\n",
       "      <th>0</th>\n",
       "      <td>0</td>\n",
       "      <td>Paul Bradley</td>\n",
       "      <td>M</td>\n",
       "      <td>9th</td>\n",
       "      <td>Huang High School</td>\n",
       "      <td>66</td>\n",
       "      <td>79</td>\n",
       "      <td>0</td>\n",
       "      <td>District</td>\n",
       "      <td>2917</td>\n",
       "      <td>1910635</td>\n",
       "    </tr>\n",
       "    <tr>\n",
       "      <th>1</th>\n",
       "      <td>1</td>\n",
       "      <td>Victor Smith</td>\n",
       "      <td>M</td>\n",
       "      <td>12th</td>\n",
       "      <td>Huang High School</td>\n",
       "      <td>94</td>\n",
       "      <td>61</td>\n",
       "      <td>0</td>\n",
       "      <td>District</td>\n",
       "      <td>2917</td>\n",
       "      <td>1910635</td>\n",
       "    </tr>\n",
       "    <tr>\n",
       "      <th>2</th>\n",
       "      <td>2</td>\n",
       "      <td>Kevin Rodriguez</td>\n",
       "      <td>M</td>\n",
       "      <td>12th</td>\n",
       "      <td>Huang High School</td>\n",
       "      <td>90</td>\n",
       "      <td>60</td>\n",
       "      <td>0</td>\n",
       "      <td>District</td>\n",
       "      <td>2917</td>\n",
       "      <td>1910635</td>\n",
       "    </tr>\n",
       "    <tr>\n",
       "      <th>3</th>\n",
       "      <td>3</td>\n",
       "      <td>Dr. Richard Scott</td>\n",
       "      <td>M</td>\n",
       "      <td>12th</td>\n",
       "      <td>Huang High School</td>\n",
       "      <td>67</td>\n",
       "      <td>58</td>\n",
       "      <td>0</td>\n",
       "      <td>District</td>\n",
       "      <td>2917</td>\n",
       "      <td>1910635</td>\n",
       "    </tr>\n",
       "    <tr>\n",
       "      <th>4</th>\n",
       "      <td>4</td>\n",
       "      <td>Bonnie Ray</td>\n",
       "      <td>F</td>\n",
       "      <td>9th</td>\n",
       "      <td>Huang High School</td>\n",
       "      <td>97</td>\n",
       "      <td>84</td>\n",
       "      <td>0</td>\n",
       "      <td>District</td>\n",
       "      <td>2917</td>\n",
       "      <td>1910635</td>\n",
       "    </tr>\n",
       "  </tbody>\n",
       "</table>\n",
       "</div>"
      ],
      "text/plain": [
       "   Student ID       student_name gender grade        school_name  \\\n",
       "0           0       Paul Bradley      M   9th  Huang High School   \n",
       "1           1       Victor Smith      M  12th  Huang High School   \n",
       "2           2    Kevin Rodriguez      M  12th  Huang High School   \n",
       "3           3  Dr. Richard Scott      M  12th  Huang High School   \n",
       "4           4         Bonnie Ray      F   9th  Huang High School   \n",
       "\n",
       "   reading_score  math_score  School ID      type  size   budget  \n",
       "0             66          79          0  District  2917  1910635  \n",
       "1             94          61          0  District  2917  1910635  \n",
       "2             90          60          0  District  2917  1910635  \n",
       "3             67          58          0  District  2917  1910635  \n",
       "4             97          84          0  District  2917  1910635  "
      ]
     },
     "execution_count": 3,
     "metadata": {},
     "output_type": "execute_result"
    }
   ],
   "source": [
    "# Show just the header\n",
    "school_combo_df.head()"
   ]
  },
  {
   "cell_type": "markdown",
   "metadata": {},
   "source": [
    "## District Summary\n",
    "\n",
    "* Calculate the total number of schools\n",
    "\n",
    "* Calculate the total number of students\n",
    "\n",
    "* Calculate the total budget\n",
    "\n",
    "* Calculate the average math score \n",
    "\n",
    "* Calculate the average reading score\n",
    "\n",
    "* Calculate the overall passing rate (overall average score), i.e. (avg. math score + avg. reading score)/2\n",
    "\n",
    "* Calculate the percentage of students with a passing math score (70 or greater)\n",
    "\n",
    "* Calculate the percentage of students with a passing reading score (70 or greater)\n",
    "\n",
    "* Create a dataframe to hold the above results\n",
    "\n",
    "* Optional: give the displayed data cleaner formatting"
   ]
  },
  {
   "cell_type": "code",
   "execution_count": 4,
   "metadata": {},
   "outputs": [],
   "source": [
    "# Calculate the number of unique schools and students\n",
    "Total_Schools = len(school_combo_df[\"school_name\"].unique())\n",
    "Total_Students = len(school_combo_df[\"Student ID\"].unique())\n",
    "\n",
    "# The mean method averages the math and reading\n",
    "math_average = school_combo_df[\"math_score\"].mean()\n",
    "read_average = school_combo_df[\"reading_score\"].mean()\n",
    "\n",
    "# Passing Math and Reading with grades equal to or greater than 70\n",
    "pass_math = school_combo_df[\"math_score\"]>=70\n",
    "\n",
    "pass_read = school_combo_df[\"reading_score\"]>=70\n",
    "\n",
    "# Calculate overall passing rate\n",
    "overall = (math_average + read_average)/2\n"
   ]
  },
  {
   "cell_type": "code",
   "execution_count": 5,
   "metadata": {},
   "outputs": [],
   "source": [
    "# The initial code above included all values for math and this line pulls\n",
    "# out only those values that are equal to or greater than 70\n",
    "passing_math = pass_math.value_counts(True)[1]*100\n",
    "#passing_math"
   ]
  },
  {
   "cell_type": "code",
   "execution_count": 6,
   "metadata": {},
   "outputs": [],
   "source": [
    "# The initial code above included all values for reading and this line pulls\n",
    "# out only those values that are equal to or greater than 70\n",
    "passing_read = pass_read.value_counts(True)[1]*100\n",
    "#passing_read"
   ]
  },
  {
   "cell_type": "code",
   "execution_count": 7,
   "metadata": {},
   "outputs": [],
   "source": [
    "# Place all of the data found into a raw file so I could use it later in the process when I needed to access \n",
    "#data that was not formatted.\n",
    "raw1_summary_table = pd.DataFrame({\"Raw1 Total Schools\": [Total_Schools],\n",
    "                             \"Raw1 Total Students\": [Total_Students],\n",
    "                              \"Raw1 Average Math Score\": [math_average],\n",
    "                              \"Raw1 Average Reading Score\": [read_average],\n",
    "                              \"Raw1 % Passing Math\": [passing_math],\n",
    "                              \"Raw1 % Passing Reading\": [passing_read],\n",
    "                              \"Raw1 % Overall Passing Rate\": [overall]})\n",
    "#raw1_summary_table.head()"
   ]
  },
  {
   "cell_type": "code",
   "execution_count": 8,
   "metadata": {
    "scrolled": false
   },
   "outputs": [
    {
     "data": {
      "text/html": [
       "<div>\n",
       "<style scoped>\n",
       "    .dataframe tbody tr th:only-of-type {\n",
       "        vertical-align: middle;\n",
       "    }\n",
       "\n",
       "    .dataframe tbody tr th {\n",
       "        vertical-align: top;\n",
       "    }\n",
       "\n",
       "    .dataframe thead th {\n",
       "        text-align: right;\n",
       "    }\n",
       "</style>\n",
       "<table border=\"1\" class=\"dataframe\">\n",
       "  <thead>\n",
       "    <tr style=\"text-align: right;\">\n",
       "      <th></th>\n",
       "      <th>Total Schools</th>\n",
       "      <th>Total Students</th>\n",
       "      <th>Average Math Score</th>\n",
       "      <th>Average Reading Score</th>\n",
       "      <th>% Passing Math</th>\n",
       "      <th>% Passing Reading</th>\n",
       "      <th>% Overall Passing Rate</th>\n",
       "    </tr>\n",
       "  </thead>\n",
       "  <tbody>\n",
       "    <tr>\n",
       "      <th>0</th>\n",
       "      <td>15</td>\n",
       "      <td>39,170</td>\n",
       "      <td>79.0%</td>\n",
       "      <td>81.9%</td>\n",
       "      <td>75.0%</td>\n",
       "      <td>85.8%</td>\n",
       "      <td>80.4%</td>\n",
       "    </tr>\n",
       "  </tbody>\n",
       "</table>\n",
       "</div>"
      ],
      "text/plain": [
       "   Total Schools Total Students Average Math Score Average Reading Score  \\\n",
       "0             15         39,170              79.0%                 81.9%   \n",
       "\n",
       "  % Passing Math % Passing Reading % Overall Passing Rate  \n",
       "0          75.0%             85.8%                  80.4%  "
      ]
     },
     "execution_count": 8,
     "metadata": {},
     "output_type": "execute_result"
    }
   ],
   "source": [
    "# Place all of the data found into a summary DataFrame with formats such as dollar and percent signs\n",
    "summary_table = pd.DataFrame({\"Total Schools\": [Total_Schools],\n",
    "                             \"Total Students\": [Total_Students],\n",
    "                              \"Average Math Score\": [math_average],\n",
    "                              \"Average Reading Score\": [read_average],\n",
    "                              \"% Passing Math\": [passing_math],\n",
    "                              \"% Passing Reading\": [passing_read],\n",
    "                              \"% Overall Passing Rate\": [overall]})\n",
    "summary_table['Total Students'] = summary_table['Total Students'].map('{:,}'.format)\n",
    "summary_table['Average Math Score'] = summary_table['Average Math Score'].map('{:,.1f}%'.format)\n",
    "summary_table['Average Reading Score'] = summary_table['Average Reading Score'].map('{:,.1f}%'.format)\n",
    "summary_table['% Passing Math'] = summary_table['% Passing Math'].map('{:.1f}%'.format)\n",
    "summary_table['% Passing Reading'] = summary_table['% Passing Reading'].map('{:.1f}%'.format)\n",
    "summary_table['% Overall Passing Rate'] = summary_table['% Overall Passing Rate'].map('{:.1f}%'.format)\n",
    "summary_table"
   ]
  },
  {
   "cell_type": "code",
   "execution_count": 9,
   "metadata": {
    "scrolled": false
   },
   "outputs": [],
   "source": [
    "# Creating a list of the High School Names\n",
    "#list(set(school_combo_df['school_name']))"
   ]
  },
  {
   "cell_type": "code",
   "execution_count": 10,
   "metadata": {
    "scrolled": true
   },
   "outputs": [],
   "source": [
    "# The following six(6) sections were created just to see the type of results I would get \n",
    "# school_combo_df['school_name'].unique()"
   ]
  },
  {
   "cell_type": "code",
   "execution_count": 11,
   "metadata": {
    "scrolled": true
   },
   "outputs": [],
   "source": [
    "# school_combo_df['type'].unique()"
   ]
  },
  {
   "cell_type": "code",
   "execution_count": 12,
   "metadata": {
    "scrolled": true
   },
   "outputs": [],
   "source": [
    "# school_combo_df['School ID'].unique()"
   ]
  },
  {
   "cell_type": "code",
   "execution_count": 13,
   "metadata": {},
   "outputs": [],
   "source": [
    "# school_combo_df['size'].unique()"
   ]
  },
  {
   "cell_type": "code",
   "execution_count": 14,
   "metadata": {
    "scrolled": true
   },
   "outputs": [],
   "source": [
    "# school_combo_df['budget'].unique()"
   ]
  },
  {
   "cell_type": "code",
   "execution_count": 15,
   "metadata": {
    "scrolled": false
   },
   "outputs": [],
   "source": [
    "# school_combo_df.groupby('School ID').reading_score.mean()"
   ]
  },
  {
   "cell_type": "code",
   "execution_count": 16,
   "metadata": {},
   "outputs": [
    {
     "data": {
      "text/html": [
       "<div>\n",
       "<style scoped>\n",
       "    .dataframe tbody tr th:only-of-type {\n",
       "        vertical-align: middle;\n",
       "    }\n",
       "\n",
       "    .dataframe tbody tr th {\n",
       "        vertical-align: top;\n",
       "    }\n",
       "\n",
       "    .dataframe thead th {\n",
       "        text-align: right;\n",
       "    }\n",
       "</style>\n",
       "<table border=\"1\" class=\"dataframe\">\n",
       "  <thead>\n",
       "    <tr style=\"text-align: right;\">\n",
       "      <th></th>\n",
       "      <th>School ID</th>\n",
       "      <th>school_name</th>\n",
       "      <th>type</th>\n",
       "      <th>size</th>\n",
       "      <th>budget</th>\n",
       "    </tr>\n",
       "  </thead>\n",
       "  <tbody>\n",
       "    <tr>\n",
       "      <th>0</th>\n",
       "      <td>0</td>\n",
       "      <td>Huang High School</td>\n",
       "      <td>District</td>\n",
       "      <td>2917</td>\n",
       "      <td>1910635</td>\n",
       "    </tr>\n",
       "    <tr>\n",
       "      <th>1</th>\n",
       "      <td>1</td>\n",
       "      <td>Figueroa High School</td>\n",
       "      <td>District</td>\n",
       "      <td>2949</td>\n",
       "      <td>1884411</td>\n",
       "    </tr>\n",
       "    <tr>\n",
       "      <th>2</th>\n",
       "      <td>2</td>\n",
       "      <td>Shelton High School</td>\n",
       "      <td>Charter</td>\n",
       "      <td>1761</td>\n",
       "      <td>1056600</td>\n",
       "    </tr>\n",
       "    <tr>\n",
       "      <th>3</th>\n",
       "      <td>3</td>\n",
       "      <td>Hernandez High School</td>\n",
       "      <td>District</td>\n",
       "      <td>4635</td>\n",
       "      <td>3022020</td>\n",
       "    </tr>\n",
       "    <tr>\n",
       "      <th>4</th>\n",
       "      <td>4</td>\n",
       "      <td>Griffin High School</td>\n",
       "      <td>Charter</td>\n",
       "      <td>1468</td>\n",
       "      <td>917500</td>\n",
       "    </tr>\n",
       "  </tbody>\n",
       "</table>\n",
       "</div>"
      ],
      "text/plain": [
       "   School ID            school_name      type  size   budget\n",
       "0          0      Huang High School  District  2917  1910635\n",
       "1          1   Figueroa High School  District  2949  1884411\n",
       "2          2    Shelton High School   Charter  1761  1056600\n",
       "3          3  Hernandez High School  District  4635  3022020\n",
       "4          4    Griffin High School   Charter  1468   917500"
      ]
     },
     "execution_count": 16,
     "metadata": {},
     "output_type": "execute_result"
    }
   ],
   "source": [
    "# I wrote this to see what was in the School file and to see the series heading names\n",
    "school_data.head()"
   ]
  },
  {
   "cell_type": "code",
   "execution_count": 17,
   "metadata": {
    "scrolled": false
   },
   "outputs": [],
   "source": [
    "# Using the School_Data csv file to determine the school type.  Easier to use this csv instead of the combined file\n",
    "# because this file only shows the school names once.\n",
    "school_type = school_data.set_index('school_name')['type']\n",
    "#school_type.head()"
   ]
  },
  {
   "cell_type": "code",
   "execution_count": 18,
   "metadata": {},
   "outputs": [],
   "source": [
    "# Using the School_Data csv file to determine the school size.  Similar to school type, it's easier to use this file then\n",
    "# to use the combined file because this file is only shows the school names once.\n",
    "school_size = school_data.set_index('school_name')['size']\n",
    "#school_size"
   ]
  },
  {
   "cell_type": "code",
   "execution_count": 19,
   "metadata": {
    "scrolled": true
   },
   "outputs": [],
   "source": [
    "# Determining the average math score by school\n",
    "school_math_mean = school_combo_df.groupby('school_name').math_score.mean()\n",
    "#school_math_mean.head()\n"
   ]
  },
  {
   "cell_type": "code",
   "execution_count": 20,
   "metadata": {},
   "outputs": [],
   "source": [
    "# Determining the average reading score by school\n",
    "school_reading_mean = school_combo_df.groupby('school_name').reading_score.mean()\n",
    "#school_reading_mean.head()"
   ]
  },
  {
   "cell_type": "code",
   "execution_count": 21,
   "metadata": {},
   "outputs": [],
   "source": [
    "# pulling in the school budget number from the School Data csv file\n",
    "school_budget = school_data.set_index('school_name')['budget']\n",
    "#school_budget.head()"
   ]
  },
  {
   "cell_type": "code",
   "execution_count": 22,
   "metadata": {
    "scrolled": false
   },
   "outputs": [],
   "source": [
    "# calculating the budget amount per student\n",
    "per_stud_bud = school_budget / school_size\n",
    "#per_stud_bud"
   ]
  },
  {
   "cell_type": "code",
   "execution_count": 23,
   "metadata": {
    "scrolled": true
   },
   "outputs": [],
   "source": [
    "# Determining the the math scores that are greater than or equal to 70\n",
    "sum_pass_math = school_combo_df[school_combo_df['math_score']>=70]\n",
    "#sum_pass_math.head()\n"
   ]
  },
  {
   "cell_type": "code",
   "execution_count": 24,
   "metadata": {
    "scrolled": true
   },
   "outputs": [],
   "source": [
    "# Calculating the percentage of student with a 70 or better in Math\n",
    "mathpass = sum_pass_math.groupby('school_name').math_score.count()/school_size*100\n",
    "#mathpass.head()"
   ]
  },
  {
   "cell_type": "code",
   "execution_count": 25,
   "metadata": {
    "scrolled": true
   },
   "outputs": [],
   "source": [
    "# Determining the the reading scores that are greater than or equal to 70\n",
    "sum_pass_read = school_combo_df[school_combo_df['reading_score']>=70]\n",
    "#sum_pass_read.head()\n"
   ]
  },
  {
   "cell_type": "code",
   "execution_count": 26,
   "metadata": {},
   "outputs": [],
   "source": [
    "# Calculating the percentage of student with a 70 or better in Reading\n",
    "readpass = sum_pass_read.groupby('school_name').reading_score.count()/school_size*100\n",
    "#readpass.head()\n"
   ]
  },
  {
   "cell_type": "code",
   "execution_count": 27,
   "metadata": {
    "scrolled": true
   },
   "outputs": [],
   "source": [
    "# Calculate overall passing rate\n",
    "overall = (mathpass + readpass)/2\n",
    "#overall.head()"
   ]
  },
  {
   "cell_type": "markdown",
   "metadata": {},
   "source": [
    "## School Summary"
   ]
  },
  {
   "cell_type": "markdown",
   "metadata": {},
   "source": [
    "* Create an overview table that summarizes key metrics about each school, including:\n",
    "  * School Name\n",
    "  * School Type\n",
    "  * Total Students\n",
    "  * Total School Budget\n",
    "  * Per Student Budget\n",
    "  * Average Math Score\n",
    "  * Average Reading Score\n",
    "  * % Passing Math\n",
    "  * % Passing Reading\n",
    "  * Overall Passing Rate (Average of the above two)\n",
    "  \n",
    "* Create a dataframe to hold the above results"
   ]
  },
  {
   "cell_type": "markdown",
   "metadata": {},
   "source": [
    "## Top Performing Schools (By Passing Rate)"
   ]
  },
  {
   "cell_type": "markdown",
   "metadata": {},
   "source": [
    "* Sort and display the top five schools in overall passing rate"
   ]
  },
  {
   "cell_type": "code",
   "execution_count": 28,
   "metadata": {},
   "outputs": [],
   "source": [
    "# Place all of the data found into a summary DataFrame of unformatted or raw data.  \n",
    "#This is needed for code further down in the process when I had to work on data that could not have formatting\n",
    "raw2_School_summary_table = pd.DataFrame({\"Raw2 School Type\": school_type,\n",
    "                            \"Raw2 Total Students\": school_size,\n",
    "                            \"Raw2 Total School Budget\": school_budget,      \n",
    "                            \"Raw2 Per Student Budget\": per_stud_bud,\n",
    "                            \"Raw2 Average Math Score\": school_math_mean,     \n",
    "                            \"Raw2 Average Reading Score\": school_reading_mean,\n",
    "                            \"Raw2 % Passing Math\": mathpass,\n",
    "                            \"Raw2 % Passing Reading\": readpass,         \n",
    "                            \"Raw2 % Overall Passing Rate\": overall})\n",
    "#raw2_School_summary_table.head()"
   ]
  },
  {
   "cell_type": "code",
   "execution_count": 29,
   "metadata": {
    "scrolled": true
   },
   "outputs": [
    {
     "data": {
      "text/html": [
       "<div>\n",
       "<style scoped>\n",
       "    .dataframe tbody tr th:only-of-type {\n",
       "        vertical-align: middle;\n",
       "    }\n",
       "\n",
       "    .dataframe tbody tr th {\n",
       "        vertical-align: top;\n",
       "    }\n",
       "\n",
       "    .dataframe thead th {\n",
       "        text-align: right;\n",
       "    }\n",
       "</style>\n",
       "<table border=\"1\" class=\"dataframe\">\n",
       "  <thead>\n",
       "    <tr style=\"text-align: right;\">\n",
       "      <th></th>\n",
       "      <th>School Type</th>\n",
       "      <th>Total Students</th>\n",
       "      <th>Total School Budget</th>\n",
       "      <th>Per Student Budget</th>\n",
       "      <th>Average Math Score</th>\n",
       "      <th>Average Reading Score</th>\n",
       "      <th>% Passing Math</th>\n",
       "      <th>% Passing Reading</th>\n",
       "      <th>% Overall Passing Rate</th>\n",
       "    </tr>\n",
       "  </thead>\n",
       "  <tbody>\n",
       "    <tr>\n",
       "      <th>Cabrera High School</th>\n",
       "      <td>Charter</td>\n",
       "      <td>1,858</td>\n",
       "      <td>$1,081,356</td>\n",
       "      <td>$582</td>\n",
       "      <td>83.1%</td>\n",
       "      <td>84.0%</td>\n",
       "      <td>94.1335%</td>\n",
       "      <td>97.0398%</td>\n",
       "      <td>95.5867%</td>\n",
       "    </tr>\n",
       "    <tr>\n",
       "      <th>Thomas High School</th>\n",
       "      <td>Charter</td>\n",
       "      <td>1,635</td>\n",
       "      <td>$1,043,130</td>\n",
       "      <td>$638</td>\n",
       "      <td>83.4%</td>\n",
       "      <td>83.8%</td>\n",
       "      <td>93.2722%</td>\n",
       "      <td>97.3089%</td>\n",
       "      <td>95.2905%</td>\n",
       "    </tr>\n",
       "    <tr>\n",
       "      <th>Pena High School</th>\n",
       "      <td>Charter</td>\n",
       "      <td>962</td>\n",
       "      <td>$585,858</td>\n",
       "      <td>$609</td>\n",
       "      <td>83.8%</td>\n",
       "      <td>84.0%</td>\n",
       "      <td>94.5946%</td>\n",
       "      <td>95.9459%</td>\n",
       "      <td>95.2703%</td>\n",
       "    </tr>\n",
       "    <tr>\n",
       "      <th>Griffin High School</th>\n",
       "      <td>Charter</td>\n",
       "      <td>1,468</td>\n",
       "      <td>$917,500</td>\n",
       "      <td>$625</td>\n",
       "      <td>83.4%</td>\n",
       "      <td>83.8%</td>\n",
       "      <td>93.3924%</td>\n",
       "      <td>97.1390%</td>\n",
       "      <td>95.2657%</td>\n",
       "    </tr>\n",
       "    <tr>\n",
       "      <th>Wilson High School</th>\n",
       "      <td>Charter</td>\n",
       "      <td>2,283</td>\n",
       "      <td>$1,319,574</td>\n",
       "      <td>$578</td>\n",
       "      <td>83.3%</td>\n",
       "      <td>84.0%</td>\n",
       "      <td>93.8677%</td>\n",
       "      <td>96.5396%</td>\n",
       "      <td>95.2037%</td>\n",
       "    </tr>\n",
       "  </tbody>\n",
       "</table>\n",
       "</div>"
      ],
      "text/plain": [
       "                    School Type Total Students Total School Budget  \\\n",
       "Cabrera High School     Charter          1,858          $1,081,356   \n",
       "Thomas High School      Charter          1,635          $1,043,130   \n",
       "Pena High School        Charter            962            $585,858   \n",
       "Griffin High School     Charter          1,468            $917,500   \n",
       "Wilson High School      Charter          2,283          $1,319,574   \n",
       "\n",
       "                    Per Student Budget Average Math Score  \\\n",
       "Cabrera High School               $582              83.1%   \n",
       "Thomas High School                $638              83.4%   \n",
       "Pena High School                  $609              83.8%   \n",
       "Griffin High School               $625              83.4%   \n",
       "Wilson High School                $578              83.3%   \n",
       "\n",
       "                    Average Reading Score % Passing Math % Passing Reading  \\\n",
       "Cabrera High School                 84.0%       94.1335%          97.0398%   \n",
       "Thomas High School                  83.8%       93.2722%          97.3089%   \n",
       "Pena High School                    84.0%       94.5946%          95.9459%   \n",
       "Griffin High School                 83.8%       93.3924%          97.1390%   \n",
       "Wilson High School                  84.0%       93.8677%          96.5396%   \n",
       "\n",
       "                    % Overall Passing Rate  \n",
       "Cabrera High School               95.5867%  \n",
       "Thomas High School                95.2905%  \n",
       "Pena High School                  95.2703%  \n",
       "Griffin High School               95.2657%  \n",
       "Wilson High School                95.2037%  "
      ]
     },
     "execution_count": 29,
     "metadata": {},
     "output_type": "execute_result"
    }
   ],
   "source": [
    "# Place all of the data found into a summary DataFrame\n",
    "School_summary_table = pd.DataFrame({\"School Type\": school_type,\n",
    "                            \"Total Students\": school_size,\n",
    "                            \"Total School Budget\": school_budget,      \n",
    "                            \"Per Student Budget\": per_stud_bud,\n",
    "                            \"Average Math Score\": school_math_mean,     \n",
    "                            \"Average Reading Score\": school_reading_mean,\n",
    "                            \"% Passing Math\": mathpass,\n",
    "                            \"% Passing Reading\": readpass,         \n",
    "                            \"% Overall Passing Rate\": overall})\n",
    "School_summary_table['Total Students'] = School_summary_table['Total Students'].map('{:,.0f}'.format)\n",
    "School_summary_table['Total School Budget'] = School_summary_table['Total School Budget'].map('${:,.0f}'.format)\n",
    "School_summary_table['Per Student Budget'] = School_summary_table['Per Student Budget'].map('${:,.0f}'.format)\n",
    "School_summary_table['Average Math Score'] = School_summary_table['Average Math Score'].map('{:,.1f}%'.format)\n",
    "School_summary_table['Average Reading Score'] = School_summary_table['Average Reading Score'].map('{:,.1f}%'.format)\n",
    "School_summary_table['% Passing Math'] = School_summary_table['% Passing Math'].map('{:.4f}%'.format)\n",
    "School_summary_table['% Passing Reading'] = School_summary_table['% Passing Reading'].map('{:.4f}%'.format)\n",
    "School_summary_table['% Overall Passing Rate'] = School_summary_table['% Overall Passing Rate'].map('{:.4f}%'.format)\n",
    "School_summary_table.sort_values(\"% Overall Passing Rate\", ascending=False).head()"
   ]
  },
  {
   "cell_type": "markdown",
   "metadata": {},
   "source": [
    "## Bottom Performing Schools (By Passing Rate)"
   ]
  },
  {
   "cell_type": "markdown",
   "metadata": {},
   "source": [
    "* Sort and display the five worst-performing schools"
   ]
  },
  {
   "cell_type": "code",
   "execution_count": 30,
   "metadata": {},
   "outputs": [],
   "source": [
    "# Place all of the data found into a summary DataFrame in case I needed to access this data without any formatting\n",
    "raw3_School_summary_table2 = pd.DataFrame({\"Raw3 School Type\": school_type,\n",
    "                            \"Raw3 Total Students\": school_size,\n",
    "                            \"Raw3 Total School Budget\": school_budget,      \n",
    "                            \"Raw3 Per Student Budget\": per_stud_bud,\n",
    "                            \"Raw3 Average Math Score\": school_math_mean,     \n",
    "                            \"Raw3 Average Reading Score\": school_reading_mean,\n",
    "                            \"Raw3 % Passing Math\": mathpass,\n",
    "                            \"Raw3 % Passing Reading\": readpass,         \n",
    "                            \"Raw3 % Overall Passing Rate\": overall})\n",
    "#raw3_School_summary_table2"
   ]
  },
  {
   "cell_type": "code",
   "execution_count": 31,
   "metadata": {
    "scrolled": true
   },
   "outputs": [
    {
     "data": {
      "text/html": [
       "<div>\n",
       "<style scoped>\n",
       "    .dataframe tbody tr th:only-of-type {\n",
       "        vertical-align: middle;\n",
       "    }\n",
       "\n",
       "    .dataframe tbody tr th {\n",
       "        vertical-align: top;\n",
       "    }\n",
       "\n",
       "    .dataframe thead th {\n",
       "        text-align: right;\n",
       "    }\n",
       "</style>\n",
       "<table border=\"1\" class=\"dataframe\">\n",
       "  <thead>\n",
       "    <tr style=\"text-align: right;\">\n",
       "      <th></th>\n",
       "      <th>School Type</th>\n",
       "      <th>Total Students</th>\n",
       "      <th>Total School Budget</th>\n",
       "      <th>Per Student Budget</th>\n",
       "      <th>Average Math Score</th>\n",
       "      <th>Average Reading Score</th>\n",
       "      <th>% Passing Math</th>\n",
       "      <th>% Passing Reading</th>\n",
       "      <th>% Overall Passing Rate</th>\n",
       "    </tr>\n",
       "  </thead>\n",
       "  <tbody>\n",
       "    <tr>\n",
       "      <th>Rodriguez High School</th>\n",
       "      <td>District</td>\n",
       "      <td>3,999</td>\n",
       "      <td>$2,547,363</td>\n",
       "      <td>$637</td>\n",
       "      <td>76.8%</td>\n",
       "      <td>80.7%</td>\n",
       "      <td>66.4%</td>\n",
       "      <td>80.2%</td>\n",
       "      <td>73.293%</td>\n",
       "    </tr>\n",
       "    <tr>\n",
       "      <th>Figueroa High School</th>\n",
       "      <td>District</td>\n",
       "      <td>2,949</td>\n",
       "      <td>$1,884,411</td>\n",
       "      <td>$639</td>\n",
       "      <td>76.7%</td>\n",
       "      <td>81.2%</td>\n",
       "      <td>66.0%</td>\n",
       "      <td>80.7%</td>\n",
       "      <td>73.364%</td>\n",
       "    </tr>\n",
       "    <tr>\n",
       "      <th>Huang High School</th>\n",
       "      <td>District</td>\n",
       "      <td>2,917</td>\n",
       "      <td>$1,910,635</td>\n",
       "      <td>$655</td>\n",
       "      <td>76.6%</td>\n",
       "      <td>81.2%</td>\n",
       "      <td>65.7%</td>\n",
       "      <td>81.3%</td>\n",
       "      <td>73.500%</td>\n",
       "    </tr>\n",
       "    <tr>\n",
       "      <th>Johnson High School</th>\n",
       "      <td>District</td>\n",
       "      <td>4,761</td>\n",
       "      <td>$3,094,650</td>\n",
       "      <td>$650</td>\n",
       "      <td>77.1%</td>\n",
       "      <td>81.0%</td>\n",
       "      <td>66.1%</td>\n",
       "      <td>81.2%</td>\n",
       "      <td>73.640%</td>\n",
       "    </tr>\n",
       "    <tr>\n",
       "      <th>Ford High School</th>\n",
       "      <td>District</td>\n",
       "      <td>2,739</td>\n",
       "      <td>$1,763,916</td>\n",
       "      <td>$644</td>\n",
       "      <td>77.1%</td>\n",
       "      <td>80.7%</td>\n",
       "      <td>68.3%</td>\n",
       "      <td>79.3%</td>\n",
       "      <td>73.804%</td>\n",
       "    </tr>\n",
       "  </tbody>\n",
       "</table>\n",
       "</div>"
      ],
      "text/plain": [
       "                      School Type Total Students Total School Budget  \\\n",
       "Rodriguez High School    District          3,999          $2,547,363   \n",
       "Figueroa High School     District          2,949          $1,884,411   \n",
       "Huang High School        District          2,917          $1,910,635   \n",
       "Johnson High School      District          4,761          $3,094,650   \n",
       "Ford High School         District          2,739          $1,763,916   \n",
       "\n",
       "                      Per Student Budget Average Math Score  \\\n",
       "Rodriguez High School               $637              76.8%   \n",
       "Figueroa High School                $639              76.7%   \n",
       "Huang High School                   $655              76.6%   \n",
       "Johnson High School                 $650              77.1%   \n",
       "Ford High School                    $644              77.1%   \n",
       "\n",
       "                      Average Reading Score % Passing Math % Passing Reading  \\\n",
       "Rodriguez High School                 80.7%          66.4%             80.2%   \n",
       "Figueroa High School                  81.2%          66.0%             80.7%   \n",
       "Huang High School                     81.2%          65.7%             81.3%   \n",
       "Johnson High School                   81.0%          66.1%             81.2%   \n",
       "Ford High School                      80.7%          68.3%             79.3%   \n",
       "\n",
       "                      % Overall Passing Rate  \n",
       "Rodriguez High School                73.293%  \n",
       "Figueroa High School                 73.364%  \n",
       "Huang High School                    73.500%  \n",
       "Johnson High School                  73.640%  \n",
       "Ford High School                     73.804%  "
      ]
     },
     "execution_count": 31,
     "metadata": {},
     "output_type": "execute_result"
    }
   ],
   "source": [
    "# Place all of the data found into a summary DataFrame\n",
    "School_summary_table2 = pd.DataFrame({\"School Type\": school_type,\n",
    "                            \"Total Students\": school_size,\n",
    "                            \"Total School Budget\": school_budget,      \n",
    "                            \"Per Student Budget\": per_stud_bud,\n",
    "                            \"Average Math Score\": school_math_mean,     \n",
    "                            \"Average Reading Score\": school_reading_mean,\n",
    "                            \"% Passing Math\": mathpass,\n",
    "                            \"% Passing Reading\": readpass,         \n",
    "                            \"% Overall Passing Rate\": overall})\n",
    "School_summary_table2['Total Students'] = School_summary_table2['Total Students'].map('{:,.0f}'.format)\n",
    "School_summary_table2['Total School Budget'] = School_summary_table2['Total School Budget'].map('${:,.0f}'.format)\n",
    "School_summary_table2['Per Student Budget'] = School_summary_table2['Per Student Budget'].map('${:,.0f}'.format)\n",
    "School_summary_table2['Average Math Score'] = School_summary_table2['Average Math Score'].map('{:,.1f}%'.format)\n",
    "School_summary_table2['Average Reading Score'] = School_summary_table2['Average Reading Score'].map('{:,.1f}%'.format)\n",
    "School_summary_table2['% Passing Math'] = School_summary_table2['% Passing Math'].map('{:.1f}%'.format)\n",
    "School_summary_table2['% Passing Reading'] = School_summary_table2['% Passing Reading'].map('{:.1f}%'.format)\n",
    "School_summary_table2['% Overall Passing Rate'] = School_summary_table2['% Overall Passing Rate'].map('{:.3f}%'.format)\n",
    "School_summary_table2.sort_values(\"% Overall Passing Rate\", ascending=True).head()"
   ]
  },
  {
   "cell_type": "markdown",
   "metadata": {
    "collapsed": true
   },
   "source": [
    "## Math Scores by Grade"
   ]
  },
  {
   "cell_type": "markdown",
   "metadata": {},
   "source": [
    "* Create a table that lists the average Reading Score for students of each grade level (9th, 10th, 11th, 12th) at each school.\n",
    "\n",
    "  * Create a pandas series for each grade. Hint: use a conditional statement.\n",
    "  \n",
    "  * Group each series by school\n",
    "  \n",
    "  * Combine the series into a dataframe\n",
    "  \n",
    "  * Optional: give the displayed data cleaner formatting"
   ]
  },
  {
   "cell_type": "code",
   "execution_count": 32,
   "metadata": {
    "scrolled": false
   },
   "outputs": [
    {
     "data": {
      "text/html": [
       "<div>\n",
       "<style scoped>\n",
       "    .dataframe tbody tr th:only-of-type {\n",
       "        vertical-align: middle;\n",
       "    }\n",
       "\n",
       "    .dataframe tbody tr th {\n",
       "        vertical-align: top;\n",
       "    }\n",
       "\n",
       "    .dataframe thead th {\n",
       "        text-align: right;\n",
       "    }\n",
       "</style>\n",
       "<table border=\"1\" class=\"dataframe\">\n",
       "  <thead>\n",
       "    <tr style=\"text-align: right;\">\n",
       "      <th></th>\n",
       "      <th>Student ID</th>\n",
       "      <th>student_name</th>\n",
       "      <th>gender</th>\n",
       "      <th>grade</th>\n",
       "      <th>school_name</th>\n",
       "      <th>reading_score</th>\n",
       "      <th>math_score</th>\n",
       "    </tr>\n",
       "  </thead>\n",
       "  <tbody>\n",
       "    <tr>\n",
       "      <th>0</th>\n",
       "      <td>0</td>\n",
       "      <td>Paul Bradley</td>\n",
       "      <td>M</td>\n",
       "      <td>9th</td>\n",
       "      <td>Huang High School</td>\n",
       "      <td>66</td>\n",
       "      <td>79</td>\n",
       "    </tr>\n",
       "    <tr>\n",
       "      <th>1</th>\n",
       "      <td>1</td>\n",
       "      <td>Victor Smith</td>\n",
       "      <td>M</td>\n",
       "      <td>12th</td>\n",
       "      <td>Huang High School</td>\n",
       "      <td>94</td>\n",
       "      <td>61</td>\n",
       "    </tr>\n",
       "    <tr>\n",
       "      <th>2</th>\n",
       "      <td>2</td>\n",
       "      <td>Kevin Rodriguez</td>\n",
       "      <td>M</td>\n",
       "      <td>12th</td>\n",
       "      <td>Huang High School</td>\n",
       "      <td>90</td>\n",
       "      <td>60</td>\n",
       "    </tr>\n",
       "    <tr>\n",
       "      <th>3</th>\n",
       "      <td>3</td>\n",
       "      <td>Dr. Richard Scott</td>\n",
       "      <td>M</td>\n",
       "      <td>12th</td>\n",
       "      <td>Huang High School</td>\n",
       "      <td>67</td>\n",
       "      <td>58</td>\n",
       "    </tr>\n",
       "    <tr>\n",
       "      <th>4</th>\n",
       "      <td>4</td>\n",
       "      <td>Bonnie Ray</td>\n",
       "      <td>F</td>\n",
       "      <td>9th</td>\n",
       "      <td>Huang High School</td>\n",
       "      <td>97</td>\n",
       "      <td>84</td>\n",
       "    </tr>\n",
       "  </tbody>\n",
       "</table>\n",
       "</div>"
      ],
      "text/plain": [
       "   Student ID       student_name gender grade        school_name  \\\n",
       "0           0       Paul Bradley      M   9th  Huang High School   \n",
       "1           1       Victor Smith      M  12th  Huang High School   \n",
       "2           2    Kevin Rodriguez      M  12th  Huang High School   \n",
       "3           3  Dr. Richard Scott      M  12th  Huang High School   \n",
       "4           4         Bonnie Ray      F   9th  Huang High School   \n",
       "\n",
       "   reading_score  math_score  \n",
       "0             66          79  \n",
       "1             94          61  \n",
       "2             90          60  \n",
       "3             67          58  \n",
       "4             97          84  "
      ]
     },
     "execution_count": 32,
     "metadata": {},
     "output_type": "execute_result"
    }
   ],
   "source": [
    "student_data.head()"
   ]
  },
  {
   "cell_type": "code",
   "execution_count": 33,
   "metadata": {
    "scrolled": true
   },
   "outputs": [],
   "source": [
    "grade_nine = student_data[student_data.grade == '9th'].groupby('school_name').math_score.mean()\n",
    "#grade_nine.head()"
   ]
  },
  {
   "cell_type": "code",
   "execution_count": 34,
   "metadata": {},
   "outputs": [],
   "source": [
    "grade_ten = student_data[student_data.grade == '10th'].groupby('school_name').math_score.mean()\n",
    "#grade_ten.head()"
   ]
  },
  {
   "cell_type": "code",
   "execution_count": 35,
   "metadata": {},
   "outputs": [],
   "source": [
    "grade_eleven = student_data[student_data.grade == '11th'].groupby('school_name').math_score.mean()\n",
    "# grade_eleven.head()"
   ]
  },
  {
   "cell_type": "code",
   "execution_count": 36,
   "metadata": {},
   "outputs": [],
   "source": [
    "grade_twelve = student_data[student_data.grade == '12th'].groupby('school_name').math_score.mean()\n",
    "# grade_twelve.head()"
   ]
  },
  {
   "cell_type": "code",
   "execution_count": 37,
   "metadata": {
    "scrolled": true
   },
   "outputs": [
    {
     "data": {
      "text/html": [
       "<div>\n",
       "<style scoped>\n",
       "    .dataframe tbody tr th:only-of-type {\n",
       "        vertical-align: middle;\n",
       "    }\n",
       "\n",
       "    .dataframe tbody tr th {\n",
       "        vertical-align: top;\n",
       "    }\n",
       "\n",
       "    .dataframe thead th {\n",
       "        text-align: right;\n",
       "    }\n",
       "</style>\n",
       "<table border=\"1\" class=\"dataframe\">\n",
       "  <thead>\n",
       "    <tr style=\"text-align: right;\">\n",
       "      <th></th>\n",
       "      <th>9th</th>\n",
       "      <th>10th</th>\n",
       "      <th>11th</th>\n",
       "      <th>12th</th>\n",
       "    </tr>\n",
       "    <tr>\n",
       "      <th>school_name</th>\n",
       "      <th></th>\n",
       "      <th></th>\n",
       "      <th></th>\n",
       "      <th></th>\n",
       "    </tr>\n",
       "  </thead>\n",
       "  <tbody>\n",
       "    <tr>\n",
       "      <th>Bailey High School</th>\n",
       "      <td>77.083676</td>\n",
       "      <td>76.996772</td>\n",
       "      <td>77.515588</td>\n",
       "      <td>76.492218</td>\n",
       "    </tr>\n",
       "    <tr>\n",
       "      <th>Cabrera High School</th>\n",
       "      <td>83.094697</td>\n",
       "      <td>83.154506</td>\n",
       "      <td>82.765560</td>\n",
       "      <td>83.277487</td>\n",
       "    </tr>\n",
       "    <tr>\n",
       "      <th>Figueroa High School</th>\n",
       "      <td>76.403037</td>\n",
       "      <td>76.539974</td>\n",
       "      <td>76.884344</td>\n",
       "      <td>77.151369</td>\n",
       "    </tr>\n",
       "    <tr>\n",
       "      <th>Ford High School</th>\n",
       "      <td>77.361345</td>\n",
       "      <td>77.672316</td>\n",
       "      <td>76.918058</td>\n",
       "      <td>76.179963</td>\n",
       "    </tr>\n",
       "    <tr>\n",
       "      <th>Griffin High School</th>\n",
       "      <td>82.044010</td>\n",
       "      <td>84.229064</td>\n",
       "      <td>83.842105</td>\n",
       "      <td>83.356164</td>\n",
       "    </tr>\n",
       "  </tbody>\n",
       "</table>\n",
       "</div>"
      ],
      "text/plain": [
       "                            9th       10th       11th       12th\n",
       "school_name                                                     \n",
       "Bailey High School    77.083676  76.996772  77.515588  76.492218\n",
       "Cabrera High School   83.094697  83.154506  82.765560  83.277487\n",
       "Figueroa High School  76.403037  76.539974  76.884344  77.151369\n",
       "Ford High School      77.361345  77.672316  76.918058  76.179963\n",
       "Griffin High School   82.044010  84.229064  83.842105  83.356164"
      ]
     },
     "execution_count": 37,
     "metadata": {},
     "output_type": "execute_result"
    }
   ],
   "source": [
    "math_grade_summary_table = pd.DataFrame({\"9th\": grade_nine,\n",
    "                                         \"10th\": grade_ten,\n",
    "                                          \"11th\": grade_eleven,\n",
    "                                          \"12th\": grade_twelve,     \n",
    "                                          })\n",
    "math_grade_summary_table.head()"
   ]
  },
  {
   "cell_type": "code",
   "execution_count": 38,
   "metadata": {},
   "outputs": [],
   "source": [
    "# Export file as a CSV, without the Pandas index, but with the header\n",
    "math_grade_summary_table.to_csv(\"Math Scores by Grade.csv\", header=True)\n"
   ]
  },
  {
   "cell_type": "markdown",
   "metadata": {},
   "source": [
    "## Reading Score by Grade "
   ]
  },
  {
   "cell_type": "markdown",
   "metadata": {},
   "source": [
    "* Perform the same operations as above for reading scores"
   ]
  },
  {
   "cell_type": "code",
   "execution_count": 39,
   "metadata": {},
   "outputs": [],
   "source": [
    "grade_r_nine = student_data[student_data.grade == '9th'].groupby('school_name').reading_score.mean()\n",
    "#grade_r_nine.head()"
   ]
  },
  {
   "cell_type": "code",
   "execution_count": 40,
   "metadata": {},
   "outputs": [],
   "source": [
    "grade_r_ten = student_data[student_data.grade == '10th'].groupby('school_name').reading_score.mean()\n",
    "#grade_r_ten.head()"
   ]
  },
  {
   "cell_type": "code",
   "execution_count": 41,
   "metadata": {},
   "outputs": [],
   "source": [
    "grade_r_eleven = student_data[student_data.grade == '11th'].groupby('school_name').reading_score.mean()\n",
    "#grade_r_eleven.head()"
   ]
  },
  {
   "cell_type": "code",
   "execution_count": 42,
   "metadata": {},
   "outputs": [],
   "source": [
    "grade_r_twelve = student_data[student_data.grade == '12th'].groupby('school_name').reading_score.mean()\n",
    "#grade_r_twelve.head()"
   ]
  },
  {
   "cell_type": "code",
   "execution_count": 43,
   "metadata": {},
   "outputs": [
    {
     "data": {
      "text/html": [
       "<div>\n",
       "<style scoped>\n",
       "    .dataframe tbody tr th:only-of-type {\n",
       "        vertical-align: middle;\n",
       "    }\n",
       "\n",
       "    .dataframe tbody tr th {\n",
       "        vertical-align: top;\n",
       "    }\n",
       "\n",
       "    .dataframe thead th {\n",
       "        text-align: right;\n",
       "    }\n",
       "</style>\n",
       "<table border=\"1\" class=\"dataframe\">\n",
       "  <thead>\n",
       "    <tr style=\"text-align: right;\">\n",
       "      <th></th>\n",
       "      <th>9th</th>\n",
       "      <th>10th</th>\n",
       "      <th>11th</th>\n",
       "      <th>12th</th>\n",
       "    </tr>\n",
       "    <tr>\n",
       "      <th>school_name</th>\n",
       "      <th></th>\n",
       "      <th></th>\n",
       "      <th></th>\n",
       "      <th></th>\n",
       "    </tr>\n",
       "  </thead>\n",
       "  <tbody>\n",
       "    <tr>\n",
       "      <th>Bailey High School</th>\n",
       "      <td>81.303155</td>\n",
       "      <td>80.907183</td>\n",
       "      <td>80.945643</td>\n",
       "      <td>80.912451</td>\n",
       "    </tr>\n",
       "    <tr>\n",
       "      <th>Cabrera High School</th>\n",
       "      <td>83.676136</td>\n",
       "      <td>84.253219</td>\n",
       "      <td>83.788382</td>\n",
       "      <td>84.287958</td>\n",
       "    </tr>\n",
       "    <tr>\n",
       "      <th>Figueroa High School</th>\n",
       "      <td>81.198598</td>\n",
       "      <td>81.408912</td>\n",
       "      <td>80.640339</td>\n",
       "      <td>81.384863</td>\n",
       "    </tr>\n",
       "    <tr>\n",
       "      <th>Ford High School</th>\n",
       "      <td>80.632653</td>\n",
       "      <td>81.262712</td>\n",
       "      <td>80.403642</td>\n",
       "      <td>80.662338</td>\n",
       "    </tr>\n",
       "    <tr>\n",
       "      <th>Griffin High School</th>\n",
       "      <td>83.369193</td>\n",
       "      <td>83.706897</td>\n",
       "      <td>84.288089</td>\n",
       "      <td>84.013699</td>\n",
       "    </tr>\n",
       "  </tbody>\n",
       "</table>\n",
       "</div>"
      ],
      "text/plain": [
       "                            9th       10th       11th       12th\n",
       "school_name                                                     \n",
       "Bailey High School    81.303155  80.907183  80.945643  80.912451\n",
       "Cabrera High School   83.676136  84.253219  83.788382  84.287958\n",
       "Figueroa High School  81.198598  81.408912  80.640339  81.384863\n",
       "Ford High School      80.632653  81.262712  80.403642  80.662338\n",
       "Griffin High School   83.369193  83.706897  84.288089  84.013699"
      ]
     },
     "execution_count": 43,
     "metadata": {},
     "output_type": "execute_result"
    }
   ],
   "source": [
    "read_grade_summary_table = pd.DataFrame({\"9th\": grade_r_nine,\n",
    "                                         \"10th\": grade_r_ten,\n",
    "                                          \"11th\": grade_r_eleven,\n",
    "                                          \"12th\": grade_r_twelve,     \n",
    "                                          })\n",
    "read_grade_summary_table.head()"
   ]
  },
  {
   "cell_type": "code",
   "execution_count": 44,
   "metadata": {},
   "outputs": [],
   "source": [
    "# Export file as a CSV, without the Pandas index, but with the header\n",
    "read_grade_summary_table.to_csv(\"Reading Scores by Grade.csv\", header=True)\n"
   ]
  },
  {
   "cell_type": "markdown",
   "metadata": {},
   "source": [
    "## Scores by School Spending"
   ]
  },
  {
   "cell_type": "markdown",
   "metadata": {},
   "source": [
    "* Create a table that breaks down school performances based on average Spending Ranges (Per Student). Use 4 reasonable bins to group school spending. Include in the table each of the following:\n",
    "  * Average Math Score\n",
    "  * Average Reading Score\n",
    "  * % Passing Math\n",
    "  * % Passing Reading\n",
    "  * Overall Passing Rate (Average of the above two)"
   ]
  },
  {
   "cell_type": "code",
   "execution_count": 45,
   "metadata": {
    "scrolled": false
   },
   "outputs": [
    {
     "data": {
      "text/html": [
       "<div>\n",
       "<style scoped>\n",
       "    .dataframe tbody tr th:only-of-type {\n",
       "        vertical-align: middle;\n",
       "    }\n",
       "\n",
       "    .dataframe tbody tr th {\n",
       "        vertical-align: top;\n",
       "    }\n",
       "\n",
       "    .dataframe thead th {\n",
       "        text-align: right;\n",
       "    }\n",
       "</style>\n",
       "<table border=\"1\" class=\"dataframe\">\n",
       "  <thead>\n",
       "    <tr style=\"text-align: right;\">\n",
       "      <th></th>\n",
       "      <th>Raw2 Average Math Score</th>\n",
       "      <th>Raw2 Average Reading Score</th>\n",
       "      <th>Raw2 % Passing Math</th>\n",
       "      <th>Raw2 % Passing Reading</th>\n",
       "      <th>Raw2 % Overall Passing Rate</th>\n",
       "    </tr>\n",
       "    <tr>\n",
       "      <th>Raw2 Per Student Budget</th>\n",
       "      <th></th>\n",
       "      <th></th>\n",
       "      <th></th>\n",
       "      <th></th>\n",
       "      <th></th>\n",
       "    </tr>\n",
       "  </thead>\n",
       "  <tbody>\n",
       "    <tr>\n",
       "      <th>&lt;$585</th>\n",
       "      <td>83.455399</td>\n",
       "      <td>83.933814</td>\n",
       "      <td>93.460096</td>\n",
       "      <td>96.610877</td>\n",
       "      <td>95.035486</td>\n",
       "    </tr>\n",
       "    <tr>\n",
       "      <th>$585-615</th>\n",
       "      <td>83.599686</td>\n",
       "      <td>83.885211</td>\n",
       "      <td>94.230858</td>\n",
       "      <td>95.900287</td>\n",
       "      <td>95.065572</td>\n",
       "    </tr>\n",
       "    <tr>\n",
       "      <th>$615-645</th>\n",
       "      <td>79.079225</td>\n",
       "      <td>81.891436</td>\n",
       "      <td>75.668212</td>\n",
       "      <td>86.106569</td>\n",
       "      <td>80.887391</td>\n",
       "    </tr>\n",
       "    <tr>\n",
       "      <th>$645-675</th>\n",
       "      <td>76.997210</td>\n",
       "      <td>81.027843</td>\n",
       "      <td>66.164813</td>\n",
       "      <td>81.133951</td>\n",
       "      <td>73.649382</td>\n",
       "    </tr>\n",
       "  </tbody>\n",
       "</table>\n",
       "</div>"
      ],
      "text/plain": [
       "                         Raw2 Average Math Score  Raw2 Average Reading Score  \\\n",
       "Raw2 Per Student Budget                                                        \n",
       "<$585                                  83.455399                   83.933814   \n",
       "$585-615                               83.599686                   83.885211   \n",
       "$615-645                               79.079225                   81.891436   \n",
       "$645-675                               76.997210                   81.027843   \n",
       "\n",
       "                         Raw2 % Passing Math  Raw2 % Passing Reading  \\\n",
       "Raw2 Per Student Budget                                                \n",
       "<$585                              93.460096               96.610877   \n",
       "$585-615                           94.230858               95.900287   \n",
       "$615-645                           75.668212               86.106569   \n",
       "$645-675                           66.164813               81.133951   \n",
       "\n",
       "                         Raw2 % Overall Passing Rate  \n",
       "Raw2 Per Student Budget                               \n",
       "<$585                                      95.035486  \n",
       "$585-615                                   95.065572  \n",
       "$615-645                                   80.887391  \n",
       "$645-675                                   73.649382  "
      ]
     },
     "execution_count": 45,
     "metadata": {},
     "output_type": "execute_result"
    }
   ],
   "source": [
    "# Scores by School Spending\n",
    "bins = [0, 585, 615, 645, 675]\n",
    "group_names = [\"<$585\", \"$585-615\", \"$615-645\", \"$645-675\"]\n",
    "scorebybudget = raw2_School_summary_table[[\"Raw2 Average Math Score\",\n",
    "                                           \"Raw2 Average Reading Score\",\n",
    "                                           \"Raw2 % Passing Math\",\n",
    "                                           \"Raw2 % Passing Reading\",         \n",
    "                             \"Raw2 % Overall Passing Rate\"]].groupby(pd.cut(raw2_School_summary_table[\"Raw2 Per Student Budget\"], bins=bins, labels=group_names )).mean()\n",
    "scorebybudget\n",
    "\n"
   ]
  },
  {
   "cell_type": "code",
   "execution_count": 46,
   "metadata": {},
   "outputs": [],
   "source": [
    "# Export file as a CSV, without the Pandas index, but with the header\n",
    "scorebybudget.to_csv(\"Scores by School Budget.csv\", header=True)"
   ]
  },
  {
   "cell_type": "markdown",
   "metadata": {},
   "source": [
    "## Scores by School Size"
   ]
  },
  {
   "cell_type": "markdown",
   "metadata": {},
   "source": [
    "* Perform the same operations as above, based on school size."
   ]
  },
  {
   "cell_type": "code",
   "execution_count": 47,
   "metadata": {
    "scrolled": true
   },
   "outputs": [
    {
     "data": {
      "text/html": [
       "<div>\n",
       "<style scoped>\n",
       "    .dataframe tbody tr th:only-of-type {\n",
       "        vertical-align: middle;\n",
       "    }\n",
       "\n",
       "    .dataframe tbody tr th {\n",
       "        vertical-align: top;\n",
       "    }\n",
       "\n",
       "    .dataframe thead th {\n",
       "        text-align: right;\n",
       "    }\n",
       "</style>\n",
       "<table border=\"1\" class=\"dataframe\">\n",
       "  <thead>\n",
       "    <tr style=\"text-align: right;\">\n",
       "      <th></th>\n",
       "      <th>Raw2 Average Math Score</th>\n",
       "      <th>Raw2 Average Reading Score</th>\n",
       "      <th>Raw2 % Passing Math</th>\n",
       "      <th>Raw2 % Passing Reading</th>\n",
       "      <th>Raw2 % Overall Passing Rate</th>\n",
       "    </tr>\n",
       "    <tr>\n",
       "      <th>Raw2 Total Students</th>\n",
       "      <th></th>\n",
       "      <th></th>\n",
       "      <th></th>\n",
       "      <th></th>\n",
       "      <th></th>\n",
       "    </tr>\n",
       "  </thead>\n",
       "  <tbody>\n",
       "    <tr>\n",
       "      <th>Small &lt; 1000</th>\n",
       "      <td>83.821598</td>\n",
       "      <td>83.929843</td>\n",
       "      <td>93.550225</td>\n",
       "      <td>96.099437</td>\n",
       "      <td>94.824831</td>\n",
       "    </tr>\n",
       "    <tr>\n",
       "      <th>Medium 1000 to 2499</th>\n",
       "      <td>83.357937</td>\n",
       "      <td>83.885280</td>\n",
       "      <td>93.644365</td>\n",
       "      <td>96.748840</td>\n",
       "      <td>95.196603</td>\n",
       "    </tr>\n",
       "    <tr>\n",
       "      <th>Large 2500 to 5000</th>\n",
       "      <td>76.956733</td>\n",
       "      <td>80.966636</td>\n",
       "      <td>66.548453</td>\n",
       "      <td>80.799062</td>\n",
       "      <td>73.673757</td>\n",
       "    </tr>\n",
       "  </tbody>\n",
       "</table>\n",
       "</div>"
      ],
      "text/plain": [
       "                     Raw2 Average Math Score  Raw2 Average Reading Score  \\\n",
       "Raw2 Total Students                                                        \n",
       "Small < 1000                       83.821598                   83.929843   \n",
       "Medium 1000 to 2499                83.357937                   83.885280   \n",
       "Large 2500 to 5000                 76.956733                   80.966636   \n",
       "\n",
       "                     Raw2 % Passing Math  Raw2 % Passing Reading  \\\n",
       "Raw2 Total Students                                                \n",
       "Small < 1000                   93.550225               96.099437   \n",
       "Medium 1000 to 2499            93.644365               96.748840   \n",
       "Large 2500 to 5000             66.548453               80.799062   \n",
       "\n",
       "                     Raw2 % Overall Passing Rate  \n",
       "Raw2 Total Students                               \n",
       "Small < 1000                           94.824831  \n",
       "Medium 1000 to 2499                    95.196603  \n",
       "Large 2500 to 5000                     73.673757  "
      ]
     },
     "execution_count": 47,
     "metadata": {},
     "output_type": "execute_result"
    }
   ],
   "source": [
    "# Scores by School Size - PLEASE NOTE: MY BINS ARE DIFFERENT THEN THE HOMEWORK STARTER NOTEBOOK\n",
    "bins = [0, 1000, 2500, 5000]\n",
    "group_names = [\"Small < 1000\", \"Medium 1000 to 2499\", \"Large 2500 to 5000\"]\n",
    "scorebysize = raw2_School_summary_table[[\"Raw2 Average Math Score\",\n",
    "                                         \"Raw2 Average Reading Score\",\n",
    "                                         \"Raw2 % Passing Math\",\n",
    "                                         \"Raw2 % Passing Reading\",         \n",
    "                            \"Raw2 % Overall Passing Rate\"]].groupby(pd.cut(raw2_School_summary_table[\"Raw2 Total Students\"], bins=bins, labels=group_names )).mean()\n",
    "scorebysize.head()"
   ]
  },
  {
   "cell_type": "code",
   "execution_count": 48,
   "metadata": {},
   "outputs": [],
   "source": [
    "# Export file as a CSV, without the Pandas index, but with the header\n",
    "scorebysize.to_csv(\"Scores by School Size.csv\", header=True)"
   ]
  },
  {
   "cell_type": "markdown",
   "metadata": {},
   "source": [
    "## Scores by School Type"
   ]
  },
  {
   "cell_type": "markdown",
   "metadata": {},
   "source": [
    "* Perform the same operations as above, based on school type."
   ]
  },
  {
   "cell_type": "code",
   "execution_count": 49,
   "metadata": {
    "scrolled": false
   },
   "outputs": [
    {
     "data": {
      "text/html": [
       "<div>\n",
       "<style scoped>\n",
       "    .dataframe tbody tr th:only-of-type {\n",
       "        vertical-align: middle;\n",
       "    }\n",
       "\n",
       "    .dataframe tbody tr th {\n",
       "        vertical-align: top;\n",
       "    }\n",
       "\n",
       "    .dataframe thead th {\n",
       "        text-align: right;\n",
       "    }\n",
       "</style>\n",
       "<table border=\"1\" class=\"dataframe\">\n",
       "  <thead>\n",
       "    <tr style=\"text-align: right;\">\n",
       "      <th></th>\n",
       "      <th>Raw2 Average Math Score</th>\n",
       "      <th>Raw2 Average Reading Score</th>\n",
       "      <th>Raw2 % Passing Math</th>\n",
       "      <th>Raw2 % Passing Reading</th>\n",
       "      <th>Raw2 % Overall Passing Rate</th>\n",
       "    </tr>\n",
       "    <tr>\n",
       "      <th>Raw2 School Type</th>\n",
       "      <th></th>\n",
       "      <th></th>\n",
       "      <th></th>\n",
       "      <th></th>\n",
       "      <th></th>\n",
       "    </tr>\n",
       "  </thead>\n",
       "  <tbody>\n",
       "    <tr>\n",
       "      <th>Charter</th>\n",
       "      <td>83.473852</td>\n",
       "      <td>83.896421</td>\n",
       "      <td>93.620830</td>\n",
       "      <td>96.586489</td>\n",
       "      <td>95.103660</td>\n",
       "    </tr>\n",
       "    <tr>\n",
       "      <th>District</th>\n",
       "      <td>76.956733</td>\n",
       "      <td>80.966636</td>\n",
       "      <td>66.548453</td>\n",
       "      <td>80.799062</td>\n",
       "      <td>73.673757</td>\n",
       "    </tr>\n",
       "  </tbody>\n",
       "</table>\n",
       "</div>"
      ],
      "text/plain": [
       "                  Raw2 Average Math Score  Raw2 Average Reading Score  \\\n",
       "Raw2 School Type                                                        \n",
       "Charter                         83.473852                   83.896421   \n",
       "District                        76.956733                   80.966636   \n",
       "\n",
       "                  Raw2 % Passing Math  Raw2 % Passing Reading  \\\n",
       "Raw2 School Type                                                \n",
       "Charter                     93.620830               96.586489   \n",
       "District                    66.548453               80.799062   \n",
       "\n",
       "                  Raw2 % Overall Passing Rate  \n",
       "Raw2 School Type                               \n",
       "Charter                             95.103660  \n",
       "District                            73.673757  "
      ]
     },
     "execution_count": 49,
     "metadata": {},
     "output_type": "execute_result"
    }
   ],
   "source": [
    "# Scores by School Type\n",
    "raw2_School_summary_table[\"Raw2 School Type\"] = raw2_School_summary_table[\"Raw2 School Type\"].replace({\"Charter\": 1, \"District\": 2})\n",
    "\n",
    "bins = [0, 1, 2]\n",
    "group_names = [\"Charter\", \"District\"]\n",
    "scorebytype = raw2_School_summary_table[[\"Raw2 Average Math Score\",\"Raw2 Average Reading Score\",\"Raw2 % Passing Math\",\"Raw2 % Passing Reading\",         \n",
    "                            \"Raw2 % Overall Passing Rate\"]].groupby(pd.cut(raw2_School_summary_table[\"Raw2 School Type\"], bins=bins, labels=group_names)).mean()\n",
    "scorebytype.head()"
   ]
  },
  {
   "cell_type": "code",
   "execution_count": 50,
   "metadata": {},
   "outputs": [],
   "source": [
    "# Export file as a CSV, without the Pandas index, but with the header\n",
    "scorebytype.to_csv(\"Scores by School Type.csv\", header=True)"
   ]
  },
  {
   "cell_type": "code",
   "execution_count": null,
   "metadata": {},
   "outputs": [],
   "source": []
  }
 ],
 "metadata": {
  "anaconda-cloud": {},
  "kernel_info": {
   "name": "python3"
  },
  "kernelspec": {
   "display_name": "Python 3",
   "language": "python",
   "name": "python3"
  },
  "language_info": {
   "codemirror_mode": {
    "name": "ipython",
    "version": 3
   },
   "file_extension": ".py",
   "mimetype": "text/x-python",
   "name": "python",
   "nbconvert_exporter": "python",
   "pygments_lexer": "ipython3",
   "version": "3.7.3"
  },
  "nteract": {
   "version": "0.8.4"
  }
 },
 "nbformat": 4,
 "nbformat_minor": 1
}
